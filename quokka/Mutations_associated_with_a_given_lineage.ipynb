{
 "cells": [
  {
   "cell_type": "code",
   "execution_count": null,
   "id": "5418e65f",
   "metadata": {},
   "outputs": [],
   "source": [
    "import Bio\n",
    "import pandas as pd\n",
    "import csv\n",
    "import re\n",
    "\n",
    "from Bio import SeqIO\n",
    "from Bio.Seq import Seq\n",
    "from Bio import AlignIO\n",
    "from Bio.Align.AlignInfo import SummaryInfo"
   ]
  },
  {
   "cell_type": "code",
   "execution_count": null,
   "id": "fb6f43ed",
   "metadata": {},
   "outputs": [],
   "source": [
    "## read in reference file\n",
    "reference = SeqIO.read(\"reference.fasta.txt\", \"fasta\")"
   ]
  },
  {
   "cell_type": "code",
   "execution_count": null,
   "id": "e0d46619",
   "metadata": {},
   "outputs": [],
   "source": [
    "## read in large file of designated sequences\n",
    "sequences_index = Bio.SeqIO.index(\"designated_seqs.fasta\", \"fasta\")\n",
    "## designation index"
   ]
  },
  {
   "cell_type": "code",
   "execution_count": null,
   "id": "9b52b3c8",
   "metadata": {},
   "outputs": [],
   "source": [
    "## load the csv of what lineage each sequence has been designated to\n",
    "lineage_designations = pd.read_csv(\"lineages.csv\", \",\")\n",
    "\n",
    "## designation list"
   ]
  },
  {
   "cell_type": "code",
   "execution_count": null,
   "id": "109a8b09",
   "metadata": {},
   "outputs": [],
   "source": [
    "## outputs a dataframe of mutations associated with a given lineage\n",
    "\n",
    "## lineage of interest given as a string i.e. lineage_of interest = \"B.1.1.7\"\n",
    "def lineage_associated_SNPs(designation_list, lineage_of_interest, designation_index, reference_sequence): \n",
    "    sequence_ID_list = []\n",
    "    for index, row in designation_list.iterrows(): \n",
    "        if row[\"lineage\"] == str(lineage_of_interest):\n",
    "            sequence_ID_list.append(row[\"taxon\"])\n",
    "            \n",
    "    ### output of list of sequence_IDs for the given lineage\n",
    "    \n",
    "    sequences_lineage = Bio.Align.MultipleSeqAlignment([])\n",
    "    \n",
    "    for sequence in designation_index: ## for a sequence in the indexed sequences\n",
    "        if sequence in sequence_ID_list: ## is this sequence in the ID list? \n",
    "            sequences_lineage.append(designation_index[sequence]) ## if it is, add the sequence to the list\n",
    "    \n",
    "    \n",
    "    info = SummaryInfo(sequences_lineage)\n",
    "    consensus_sequence =  info.gap_consensus(\n",
    "    threshold=0.95, \n",
    "    ambiguous='N')\n",
    "        \n",
    "    nuc_position = []\n",
    "    reference_nuc = []\n",
    "    lineage_nuc = []\n",
    "\n",
    "    for i in range(len(consensus_sequence)):\n",
    "        if reference_sequence[i] != \"N\" and consensus_sequence[i] != \"N\":\n",
    "            if consensus_sequence[i] != reference_sequence[i]:\n",
    "                nuc_position.append(i)\n",
    "                reference_nuc.append(reference_sequence[i])\n",
    "                lineage_nuc.append(consensus_sequence[i])\n",
    "    \n",
    "    defining_mutations = pd.DataFrame(\n",
    "    {'nucleotide_position': nuc_position,\n",
    "     'reference_nucleotide': reference_nuc,\n",
    "     'lineage_nucleotide': lineage_nuc\n",
    "    })\n",
    "    \n",
    "    return(defining_mutations)"
   ]
  },
  {
   "cell_type": "code",
   "execution_count": null,
   "id": "63b7b9f6",
   "metadata": {},
   "outputs": [],
   "source": [
    "def get_lineage_sequences(designation_list, lineage_of_interest, designation_index, reference_sequence): \n",
    "    sequence_ID_list = []\n",
    "    for index, row in designation_list.iterrows(): \n",
    "        if row[\"lineage\"] == str(lineage_of_interest):\n",
    "            sequence_ID_list.append(row[\"taxon\"])\n",
    "            \n",
    "    ### output of list of sequence_IDs for the given lineage\n",
    "    \n",
    "    sequences_lineage =  Bio.Align.MultipleSeqAlignment([])\n",
    "    \n",
    "    for sequence in designation_index: ## for a sequence in the indexed sequences\n",
    "        if sequence in sequence_ID_list: ## is this sequence in the ID list? \n",
    "            sequences_lineage.append(designation_index[sequence]) ## if it is, add the sequence to the MultipleSeqAlignment object \n",
    "    return(lineage_sequences)"
   ]
  },
  {
   "cell_type": "code",
   "execution_count": null,
   "id": "76046001",
   "metadata": {},
   "outputs": [],
   "source": [
    "def mutation_count(lineage_sequences, defining_mutations):\n",
    "    mutcount_list = []\n",
    "    epi_ID = []\n",
    "\n",
    "    for sequence in lineage_sequences: \n",
    "        epi_ID.append(sequence.name)\n",
    "\n",
    "        mutation_count = 0\n",
    "\n",
    "        for index, row in defining_mutations.iterrows():\n",
    "            if row[\"lineage_nucleotide\"] == sequence.seq[row['nucleotide_position']]:\n",
    "                mutation_count  += 1\n",
    "\n",
    "        mutcount_list.append(mutation_count)    \n",
    "        \n",
    "    mutation_counts = pd.DataFrame(\n",
    "    {'Sequence_name': epi_ID,\n",
    "     'mutation_count': mutcount_list})\n",
    "    \n",
    "    return(mutation_counts)"
   ]
  },
  {
   "cell_type": "code",
   "execution_count": null,
   "id": "33a5028f",
   "metadata": {},
   "outputs": [],
   "source": [
    "mutation_counts[\"mutation_count\"].value_counts()\n",
    "\n",
    "## outputs how many sequences have each number of mutations i.e.: \n",
    "## A.2\n",
    "\n",
    "\n",
    "# 5    1059       = 1059 sequences have all 5 mutations associated with the A.2 lineage\n",
    "# 4      27\n",
    "# 3       5\n",
    "# 1       4\n",
    "# 2       3\n",
    "# 0       2"
   ]
  },
  {
   "cell_type": "code",
   "execution_count": null,
   "id": "385be202",
   "metadata": {},
   "outputs": [],
   "source": []
  }
 ],
 "metadata": {
  "kernelspec": {
   "display_name": "Python 3",
   "language": "python",
   "name": "python3"
  },
  "language_info": {
   "codemirror_mode": {
    "name": "ipython",
    "version": 3
   },
   "file_extension": ".py",
   "mimetype": "text/x-python",
   "name": "python",
   "nbconvert_exporter": "python",
   "pygments_lexer": "ipython3",
   "version": "3.9.2"
  }
 },
 "nbformat": 4,
 "nbformat_minor": 5
}
